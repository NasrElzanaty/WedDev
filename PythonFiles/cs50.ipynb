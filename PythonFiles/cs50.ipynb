{
 "cells": [
  {
   "cell_type": "code",
   "execution_count": null,
   "metadata": {},
   "outputs": [],
   "source": [
    "a='nasr'\n",
    "for i in a:\n",
    "    print(i)"
   ]
  },
  {
   "cell_type": "markdown",
   "metadata": {},
   "source": [
    "## Print Function"
   ]
  },
  {
   "cell_type": "code",
   "execution_count": 16,
   "metadata": {},
   "outputs": [
    {
     "name": "stdout",
     "output_type": "stream",
     "text": [
      "node -> child -> child\n"
     ]
    }
   ],
   "source": [
    "print('node', 'child', 'child', sep=' -> ')"
   ]
  },
  {
   "cell_type": "code",
   "execution_count": 17,
   "metadata": {},
   "outputs": [
    {
     "name": "stdout",
     "output_type": "stream",
     "text": [
      "line1\n",
      "line2\n",
      "line3\n"
     ]
    }
   ],
   "source": [
    "print('line1\\nline2\\nline3')"
   ]
  },
  {
   "cell_type": "code",
   "execution_count": 18,
   "metadata": {},
   "outputs": [
    {
     "name": "stdout",
     "output_type": "stream",
     "text": [
      "line1\n",
      "line2\n",
      "line3\n"
     ]
    }
   ],
   "source": [
    "print('line1\\r\\nline2\\r\\nline3')"
   ]
  },
  {
   "cell_type": "code",
   "execution_count": 19,
   "metadata": {},
   "outputs": [
    {
     "name": "stdout",
     "output_type": "stream",
     "text": [
      "Mercury, Venus, Earth, Mars, Jupiter, Saturn, Uranus, Neptune, Pluto\n"
     ]
    }
   ],
   "source": [
    "print('Mercury', 'Venus', 'Earth', sep=', ', end=', ')\n",
    "print('Mars', 'Jupiter', 'Saturn', sep=', ', end=', ')\n",
    "print('Uranus', 'Neptune', 'Pluto', sep=', ')"
   ]
  },
  {
   "cell_type": "code",
   "execution_count": 20,
   "metadata": {},
   "outputs": [
    {
     "name": "stdout",
     "output_type": "stream",
     "text": [
      "Printing in a Nutshell\n",
      " * Calling Print\n",
      " * Separating Multiple Arguments\n",
      " * Preventing Line Breaks\n"
     ]
    }
   ],
   "source": [
    "print('Printing in a Nutshell', end='\\n * ')\n",
    "print('Calling Print', end='\\n * ')\n",
    "print('Separating Multiple Arguments', end='\\n * ')\n",
    "print('Preventing Line Breaks')"
   ]
  },
  {
   "cell_type": "code",
   "execution_count": 21,
   "metadata": {},
   "outputs": [
    {
     "name": "stdout",
     "output_type": "stream",
     "text": [
      "Person(name='John Doe', age=42)\n"
     ]
    }
   ],
   "source": [
    "from collections import namedtuple\n",
    "Person = namedtuple('Person', 'name age')\n",
    "jdoe = Person('John Doe', 42)\n",
    "print(jdoe)"
   ]
  },
  {
   "cell_type": "markdown",
   "metadata": {},
   "source": [
    "To remove the newline character from a string in Python, use its .rstrip() method, like this:"
   ]
  },
  {
   "cell_type": "code",
   "execution_count": 22,
   "metadata": {},
   "outputs": [
    {
     "data": {
      "text/plain": [
       "'A line of text.'"
      ]
     },
     "execution_count": 22,
     "metadata": {},
     "output_type": "execute_result"
    }
   ],
   "source": [
    "'A line of text.\\n'.rstrip()"
   ]
  },
  {
   "cell_type": "markdown",
   "metadata": {},
   "source": [
    "Block Comment"
   ]
  },
  {
   "cell_type": "code",
   "execution_count": 23,
   "metadata": {},
   "outputs": [
    {
     "data": {
      "text/plain": [
       "'This is an example\\nof a multi-line string\\nin Python.\\n'"
      ]
     },
     "execution_count": 23,
     "metadata": {},
     "output_type": "execute_result"
    }
   ],
   "source": [
    "\"\"\"\\\n",
    "This is an example\n",
    "of a multi-line string\n",
    "in Python.\n",
    "\"\"\" "
   ]
  },
  {
   "cell_type": "markdown",
   "metadata": {},
   "source": [
    "To remove indentation from a multi-line string, you might take advantage of the built-in textwrap module:"
   ]
  },
  {
   "cell_type": "code",
   "execution_count": null,
   "metadata": {},
   "outputs": [],
   "source": [
    "import textwrap\n",
    "paragraph = '''\n",
    "    This is an example\n",
    "    of a multi-line string\n",
    "    in Python.\n",
    "    '''\n",
    "\n",
    "print(paragraph)\n",
    "\n",
    "\n",
    "\n",
    "\n",
    "\n",
    "print(textwrap.dedent(paragraph).strip())\n"
   ]
  },
  {
   "cell_type": "markdown",
   "metadata": {},
   "source": [
    "you could pass an expression, like string concatenation, to be evaluated before printing the result:"
   ]
  },
  {
   "cell_type": "code",
   "execution_count": 24,
   "metadata": {},
   "outputs": [
    {
     "name": "stdout",
     "output_type": "stream",
     "text": [
      "Hello, Nk! How are you?\n"
     ]
    }
   ],
   "source": [
    "import os\n",
    "print('Hello, ' + os.getlogin() + '! How are you?')"
   ]
  },
  {
   "cell_type": "markdown",
   "metadata": {},
   "source": [
    "In fact, there are a dozen ways to format messages in Python. I highly encourage you to take a look at f-strings, introduced in Python 3.6, because they offer the most concise syntax of them all:"
   ]
  },
  {
   "cell_type": "code",
   "execution_count": 25,
   "metadata": {},
   "outputs": [
    {
     "name": "stdout",
     "output_type": "stream",
     "text": [
      "Hello, Nk! How are you?\n"
     ]
    }
   ],
   "source": [
    "import os\n",
    "print(f'Hello, {os.getlogin()}! How are you?')"
   ]
  },
  {
   "cell_type": "code",
   "execution_count": 26,
   "metadata": {},
   "outputs": [
    {
     "data": {
      "text/plain": [
       "'My age is 42'"
      ]
     },
     "execution_count": 26,
     "metadata": {},
     "output_type": "execute_result"
    }
   ],
   "source": [
    "'My age is ' + str(42)\n",
    "'My age is 42'"
   ]
  },
  {
   "cell_type": "markdown",
   "metadata": {},
   "source": [
    "As with any function, it doesn’t matter whether you pass a literal, a variable, or an expression. Unlike many other functions, however, print() will accept anything regardless of its type.\n",
    "\n",
    "So far, you only looked at the string, but how about other data types? Let’s try literals of different built-in types and see what comes out:"
   ]
  },
  {
   "cell_type": "code",
   "execution_count": 27,
   "metadata": {},
   "outputs": [
    {
     "name": "stdout",
     "output_type": "stream",
     "text": [
      "42\n",
      "3.14\n",
      "(1+2j)\n",
      "True\n",
      "[1, 2, 3]\n",
      "(1, 2, 3)\n",
      "{'blue', 'green', 'red'}\n",
      "{'name': 'Alice', 'age': 42}\n",
      "hello\n"
     ]
    }
   ],
   "source": [
    "print(42)                            # <class 'int'>\n",
    "\n",
    "print(3.14)                          # <class 'float'>\n",
    "\n",
    "print(1 + 2j)                        # <class 'complex'>\n",
    "\n",
    "print(True)                          # <class 'bool'>\n",
    "\n",
    "print([1, 2, 3])                     # <class 'list'>\n",
    "\n",
    "print((1, 2, 3))                     # <class 'tuple'>\n",
    "\n",
    "print({'red', 'green', 'blue'})      # <class 'set'>\n",
    "\n",
    "print({'name': 'Alice', 'age': 42})  # <class 'dict'>\n",
    "\n",
    "print('hello')                       # <class 'str'>\n"
   ]
  },
  {
   "cell_type": "markdown",
   "metadata": {},
   "source": [
    "# Separating Multiple Arguments\n",
    "\n",
    "You saw print() called without any arguments to produce a blank line and then called with a single argument to display either a fixed or a formatted message.\n",
    "\n",
    "However, it turns out that this function can accept any number of positional arguments, including zero, one, or more arguments. That’s very handy in a common case of message formatting, where you’d want to join a few elements together."
   ]
  },
  {
   "cell_type": "markdown",
   "metadata": {},
   "source": [
    "# Postional Arguments\n",
    "Arguments can be passed to a function in one of several ways. One way is by explicitly naming the arguments when you’re calling the function, like this:\n",
    "\n",
    "Since arguments can be uniquely identified by name, their order doesn’t matter. Swapping them out will still give the same result:"
   ]
  },
  {
   "cell_type": "code",
   "execution_count": 28,
   "metadata": {},
   "outputs": [
    {
     "data": {
      "text/plain": [
       "0.75"
      ]
     },
     "execution_count": 28,
     "metadata": {},
     "output_type": "execute_result"
    }
   ],
   "source": [
    "def div(a, b):\n",
    "    return a / b\n",
    "\n",
    "div(a=3, b=4)\n"
   ]
  },
  {
   "cell_type": "code",
   "execution_count": 29,
   "metadata": {},
   "outputs": [
    {
     "name": "stdout",
     "output_type": "stream",
     "text": [
      "My name is Nk and I am 42\n"
     ]
    }
   ],
   "source": [
    "import os\n",
    "print('My name is', os.getlogin(), 'and I am', 42)"
   ]
  },
  {
   "cell_type": "markdown",
   "metadata": {},
   "source": [
    "## Print Function details"
   ]
  },
  {
   "cell_type": "markdown",
   "metadata": {},
   "source": [
    "Apart from accepting a variable number of positional arguments, print() defines four named or keyword arguments, which are optional since they all have default values. You can view their brief documentation by calling help(print) from the interactive interpreter.\n",
    "\n",
    "Let’s focus on sep just for now. It stands for separator and is assigned a single space (' ') by default. It determines the value to join elements with.\n",
    "\n",
    "It has to be either a string or None, but the latter has the same effect as the default space:"
   ]
  },
  {
   "cell_type": "code",
   "execution_count": 30,
   "metadata": {},
   "outputs": [
    {
     "name": "stdout",
     "output_type": "stream",
     "text": [
      "hello world\n",
      "hello world\n",
      "hello world\n"
     ]
    }
   ],
   "source": [
    "print('hello', 'world', sep=None)\n",
    "\n",
    "print('hello', 'world', sep=' ')\n",
    "\n",
    "print('hello', 'world')"
   ]
  },
  {
   "cell_type": "markdown",
   "metadata": {},
   "source": [
    "If you wanted to suppress the separator completely, you’d have to pass an empty string ('') instead:"
   ]
  },
  {
   "cell_type": "code",
   "execution_count": 31,
   "metadata": {},
   "outputs": [
    {
     "name": "stdout",
     "output_type": "stream",
     "text": [
      "helloworld\n"
     ]
    }
   ],
   "source": [
    "print('hello', 'world', sep='')"
   ]
  },
  {
   "cell_type": "markdown",
   "metadata": {},
   "source": [
    "You may want print() to join its arguments as separate lines. In that case, simply pass the escaped newline character described earlier:"
   ]
  },
  {
   "cell_type": "code",
   "execution_count": null,
   "metadata": {},
   "outputs": [],
   "source": [
    "print('hello', 'world', sep='\\n')"
   ]
  },
  {
   "cell_type": "markdown",
   "metadata": {},
   "source": [
    "A more useful example of the sep parameter would be printing something like file paths:"
   ]
  },
  {
   "cell_type": "code",
   "execution_count": null,
   "metadata": {},
   "outputs": [],
   "source": [
    "print('home', 'user', 'documents', sep='/')"
   ]
  },
  {
   "cell_type": "markdown",
   "metadata": {},
   "source": [
    "Remember that the separator comes between the elements, not around them, so you need to account for that in one way or another:"
   ]
  },
  {
   "cell_type": "code",
   "execution_count": 32,
   "metadata": {},
   "outputs": [
    {
     "name": "stdout",
     "output_type": "stream",
     "text": [
      "/home/user/documents\n",
      "/home/user/documents\n"
     ]
    }
   ],
   "source": [
    "print('/home', 'user', 'documents', sep='/')\n",
    "\n",
    "print('', 'home', 'user', 'documents', sep='/')"
   ]
  },
  {
   "cell_type": "markdown",
   "metadata": {},
   "source": [
    "# Remove white space from a string"
   ]
  },
  {
   "cell_type": "code",
   "execution_count": 36,
   "metadata": {},
   "outputs": [
    {
     "name": "stdout",
     "output_type": "stream",
     "text": [
      "Nasr Elznaty Khalil\n"
     ]
    }
   ],
   "source": [
    "name='    Nasr Elznaty Khalil'\n",
    "print(name.strip())"
   ]
  },
  {
   "cell_type": "code",
   "execution_count": 37,
   "metadata": {},
   "outputs": [
    {
     "name": "stdout",
     "output_type": "stream",
     "text": [
      "    Nasr Elznaty Khalil\n"
     ]
    }
   ],
   "source": [
    "print(name.expandtabs())"
   ]
  },
  {
   "cell_type": "markdown",
   "metadata": {},
   "source": [
    " # Code to demonstrate expandtabs()"
   ]
  },
  {
   "cell_type": "code",
   "execution_count": 38,
   "metadata": {},
   "outputs": [
    {
     "name": "stdout",
     "output_type": "stream",
     "text": [
      "Modified string using default spacing: i       love    gfg\n",
      "\n",
      "Modified string using less spacing: i love  gfg\n",
      "\n",
      "Modified string using more spacing: i           love        gfg\n",
      "\n"
     ]
    }
   ],
   "source": [
    "# Python3 code to demonstrate\n",
    "# working of expandtabs()\n",
    "\n",
    "# initializing string\n",
    "str = \"i\\tlove\\tgfg\"\n",
    "\n",
    "# using expandtabs to insert spacing\n",
    "print(\"Modified string using default spacing: \", end =\"\")\n",
    "print(str.expandtabs())\n",
    "\n",
    "print(\"\\r\")\n",
    "\n",
    "# using expandtabs to insert spacing\n",
    "print(\"Modified string using less spacing: \", end =\"\")\n",
    "print(str.expandtabs(2))\n",
    "\n",
    "print(\"\\r\")\n",
    "\n",
    "# using expandtabs to insert spacing\n",
    "print(\"Modified string using more spacing: \", end =\"\")\n",
    "print(str.expandtabs(12))\n",
    "\n",
    "print(\"\\r\")\n"
   ]
  },
  {
   "cell_type": "markdown",
   "metadata": {},
   "source": [
    "Code to demonstrate exception of expandtabs()"
   ]
  },
  {
   "cell_type": "code",
   "execution_count": null,
   "metadata": {},
   "outputs": [],
   "source": [
    "# Python3 code to demonstrate\n",
    "# exception of expandtabs()\n",
    "\n",
    "# initializing string\n",
    "st = \"i\\tlove\\tgfg\"\n",
    "\n",
    "# using expandtabs to insert spacing\n",
    "try:\n",
    "\tprint(\"Modified string using default spacing: \")\n",
    "\tprint(st.expandtabs(10.5))\n",
    "\t\n",
    "except Exception as e:\n",
    "\tprint(\"Error !! The error occurred is :\")\n",
    "\tprint(str(e))\n"
   ]
  },
  {
   "cell_type": "markdown",
   "metadata": {},
   "source": [
    "## Get() method for dictionaries in Python"
   ]
  },
  {
   "cell_type": "markdown",
   "metadata": {},
   "source": [
    "Python get() method return the value for the given key if present in the dictionary. If not, then it will return None (if get() is used with only one argument).\n",
    "\n",
    "Syntax : Dict.get(key, default=None)\n",
    "\n",
    "Parameters: \n",
    "\n",
    "key: The keyname of the item you want to return the value from\n",
    "Value: (Optional) Value to be returned if the key is not found. The default value is None.\n",
    "Returns: Returns the value of the item with the specified key."
   ]
  },
  {
   "cell_type": "code",
   "execution_count": 40,
   "metadata": {},
   "outputs": [
    {
     "name": "stdout",
     "output_type": "stream",
     "text": [
      "1\n",
      "None\n",
      "Not Found ! \n"
     ]
    }
   ],
   "source": [
    "dic = {\"A\": 1, \"B\": 2}\n",
    "print(dic.get(\"A\"))\n",
    "print(dic.get(\"C\"))\n",
    "print(dic.get(\"C\", \"Not Found ! \"))\n"
   ]
  },
  {
   "cell_type": "markdown",
   "metadata": {},
   "source": [
    "Example 2: Python Dictionary get() method nested\n",
    "The get() to check and assign in absence of value to achieve this particular task. Just returns non-error None if any key is not present."
   ]
  },
  {
   "cell_type": "code",
   "execution_count": null,
   "metadata": {},
   "outputs": [],
   "source": [
    "# Python3 code to demonstrate working of\n",
    "# Safe access nested dictionary key\n",
    "# Using nested get()\n",
    "\n",
    "# initializing dictionary\n",
    "test_dict = {'Gfg' : {'is' : 'best'}}\n",
    "\n",
    "# printing original dictionary\n",
    "print(\"The original dictionary is : \" + str(test_dict))\n",
    "\n",
    "# using nested get()\n",
    "# Safe access nested dictionary key\n",
    "res = test_dict.get('Gfg', {}).get('is')\n",
    "\n",
    "# printing result\n",
    "print(\"The nested safely accessed value is : \" + str(res))\n"
   ]
  },
  {
   "cell_type": "markdown",
   "metadata": {},
   "source": [
    "## How to capitalize each word "
   ]
  },
  {
   "cell_type": "markdown",
   "metadata": {},
   "source": [
    "Use Title Function"
   ]
  },
  {
   "cell_type": "code",
   "execution_count": 42,
   "metadata": {},
   "outputs": [
    {
     "name": "stdout",
     "output_type": "stream",
     "text": [
      "Handaq Elzanaty\n"
     ]
    }
   ],
   "source": [
    "dad = 'handaq elzanaty'\n",
    "print(dad.title())"
   ]
  },
  {
   "cell_type": "markdown",
   "metadata": {},
   "source": [
    "## "
   ]
  }
 ],
 "metadata": {
  "kernelspec": {
   "display_name": "Python 3.10.4 64-bit",
   "language": "python",
   "name": "python3"
  },
  "language_info": {
   "codemirror_mode": {
    "name": "ipython",
    "version": 3
   },
   "file_extension": ".py",
   "mimetype": "text/x-python",
   "name": "python",
   "nbconvert_exporter": "python",
   "pygments_lexer": "ipython3",
   "version": "3.10.4"
  },
  "orig_nbformat": 4,
  "vscode": {
   "interpreter": {
    "hash": "369f2c481f4da34e4445cda3fffd2e751bd1c4d706f27375911949ba6bb62e1c"
   }
  }
 },
 "nbformat": 4,
 "nbformat_minor": 2
}
